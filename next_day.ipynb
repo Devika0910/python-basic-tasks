{
  "nbformat": 4,
  "nbformat_minor": 0,
  "metadata": {
    "colab": {
      "provenance": [],
      "authorship_tag": "ABX9TyNUKSvT+JS2Tw9HQaCF5DLI"
    },
    "kernelspec": {
      "name": "python3",
      "display_name": "Python 3"
    },
    "language_info": {
      "name": "python"
    }
  },
  "cells": [
    {
      "cell_type": "code",
      "execution_count": null,
      "metadata": {
        "colab": {
          "base_uri": "https://localhost:8080/"
        },
        "id": "8w1uHFiRnKEQ",
        "outputId": "9cdbe9a4-0ffa-423a-e65f-ec4087acb343"
      },
      "outputs": [
        {
          "output_type": "stream",
          "name": "stdout",
          "text": [
            "year:2026\n",
            "month12\n",
            "date31\n",
            "the next day is 1-1-2027\n"
          ]
        }
      ],
      "source": [
        "year=int(input('year:'))\n",
        "month=int(input('month'))\n",
        "date=int(input('date'))\n",
        "if year%100==0:\n",
        "  leap_year=True\n",
        "elif year%4==0:\n",
        "  leap_year=True\n",
        "elif year%400==0:\n",
        "  leap_year=True\n",
        "else:\n",
        "  leap_year=False\n",
        "if month in (1,3,5,7,8,10,12):\n",
        "  days=31\n",
        "elif month==2:\n",
        "  if leap_year:\n",
        "    days=29\n",
        "  else:\n",
        "    days=28\n",
        "else:\n",
        "  date==30\n",
        "if date<days:\n",
        "  date=date+1\n",
        "else:\n",
        "  date=1\n",
        "  if month==12:\n",
        "    month=1\n",
        "    year=year+1\n",
        "  else:\n",
        "    month=month+1\n",
        "print(f'the next day is {date}-{month}-{year}')\n"
      ]
    },
    {
      "cell_type": "code",
      "source": [
        "l=['anu','appu','loo']\n",
        "new_list=[l[::2]  ]\n",
        "new_list"
      ],
      "metadata": {
        "colab": {
          "base_uri": "https://localhost:8080/"
        },
        "id": "VYnj3q7W3KNZ",
        "outputId": "9a4c2141-58e6-48a8-bc3b-35f677c695a5"
      },
      "execution_count": null,
      "outputs": [
        {
          "output_type": "execute_result",
          "data": {
            "text/plain": [
              "[['anu', 'loo']]"
            ]
          },
          "metadata": {},
          "execution_count": 18
        }
      ]
    },
    {
      "cell_type": "code",
      "source": [
        "set_1=[1,2,3]\n",
        "set_2=['a','b','c']\n",
        "new_list=set(zip(set_1,set_2))\n",
        "new_set={item:value for item,value in new_list}\n",
        "new_set"
      ],
      "metadata": {
        "colab": {
          "base_uri": "https://localhost:8080/"
        },
        "id": "wG5ifXZ0dLju",
        "outputId": "328380c2-39f8-4dfc-ea18-63cd67c8bfcd"
      },
      "execution_count": null,
      "outputs": [
        {
          "output_type": "execute_result",
          "data": {
            "text/plain": [
              "{2: 'b', 1: 'a', 3: 'c'}"
            ]
          },
          "metadata": {},
          "execution_count": 9
        }
      ]
    },
    {
      "cell_type": "code",
      "source": [
        "\n",
        "dictt={1:9,2:8,3:7}\n",
        "new_dictt={dictt.update({1:9})for item in dictt}\n",
        "new_dictt"
      ],
      "metadata": {
        "colab": {
          "base_uri": "https://localhost:8080/"
        },
        "id": "lkV0n1QHkmmQ",
        "outputId": "3c5cb523-a4ff-4654-bb3a-efc87c94492f"
      },
      "execution_count": null,
      "outputs": [
        {
          "output_type": "execute_result",
          "data": {
            "text/plain": [
              "{None}"
            ]
          },
          "metadata": {},
          "execution_count": 18
        }
      ]
    }
  ]
}