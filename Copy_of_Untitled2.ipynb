{
  "nbformat": 4,
  "nbformat_minor": 0,
  "metadata": {
    "colab": {
      "provenance": [],
      "authorship_tag": "ABX9TyMIZ08Wgx49mz25lzVdmHVS"
    },
    "kernelspec": {
      "name": "python3",
      "display_name": "Python 3"
    },
    "language_info": {
      "name": "python"
    }
  },
  "cells": [
    {
      "cell_type": "code",
      "execution_count": null,
      "metadata": {
        "id": "8tAtyxjJF6RJ"
      },
      "outputs": [],
      "source": [
        "X=56"
      ]
    },
    {
      "cell_type": "code",
      "source": [
        "Y=76"
      ],
      "metadata": {
        "id": "qMtzVbhGGKeb"
      },
      "execution_count": null,
      "outputs": []
    },
    {
      "cell_type": "code",
      "source": [
        "X,Y=Y,X"
      ],
      "metadata": {
        "id": "qX4HSPUxGPT7"
      },
      "execution_count": null,
      "outputs": []
    },
    {
      "cell_type": "code",
      "source": [
        "X"
      ],
      "metadata": {
        "colab": {
          "base_uri": "https://localhost:8080/"
        },
        "id": "llspRbNUGp-n",
        "outputId": "6359ff57-b69b-41e4-c15b-b5a0e879106c"
      },
      "execution_count": null,
      "outputs": [
        {
          "output_type": "execute_result",
          "data": {
            "text/plain": [
              "76"
            ]
          },
          "metadata": {},
          "execution_count": 11
        }
      ]
    },
    {
      "cell_type": "code",
      "source": [
        "H=1.76\n",
        "W=55"
      ],
      "metadata": {
        "id": "deHrv2jMGymH"
      },
      "execution_count": null,
      "outputs": []
    },
    {
      "cell_type": "code",
      "source": [
        "Z=W/(H**2)"
      ],
      "metadata": {
        "id": "meqkcUjqG_8e"
      },
      "execution_count": null,
      "outputs": []
    },
    {
      "cell_type": "code",
      "source": [
        "Z"
      ],
      "metadata": {
        "colab": {
          "base_uri": "https://localhost:8080/"
        },
        "id": "uck0i--fHQOe",
        "outputId": "88056ddc-9fe3-4c46-d07a-6c423e639ce0"
      },
      "execution_count": null,
      "outputs": [
        {
          "output_type": "execute_result",
          "data": {
            "text/plain": [
              "17.75568181818182"
            ]
          },
          "metadata": {},
          "execution_count": 16
        }
      ]
    },
    {
      "cell_type": "code",
      "source": [],
      "metadata": {
        "id": "9nxl0laHHqLY"
      },
      "execution_count": null,
      "outputs": []
    }
  ]
}