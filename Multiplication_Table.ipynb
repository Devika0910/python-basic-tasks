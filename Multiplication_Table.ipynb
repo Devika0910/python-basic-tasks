{
  "nbformat": 4,
  "nbformat_minor": 0,
  "metadata": {
    "colab": {
      "provenance": [],
      "authorship_tag": "ABX9TyM4WcSklY+VeT3ZYsPexz9v"
    },
    "kernelspec": {
      "name": "python3",
      "display_name": "Python 3"
    },
    "language_info": {
      "name": "python"
    }
  },
  "cells": [
    {
      "cell_type": "code",
      "execution_count": null,
      "metadata": {
        "colab": {
          "base_uri": "https://localhost:8080/"
        },
        "id": "98VeqsBiVAx-",
        "outputId": "58b68b6b-43f6-4a76-a438-4ffa048b8805"
      },
      "outputs": [
        {
          "output_type": "execute_result",
          "data": {
            "text/plain": [
              "(1, 2, 3, 4, 5, 6, 7, 8, 9, 10)"
            ]
          },
          "metadata": {},
          "execution_count": 1
        }
      ],
      "source": [
        "tuple(range(1,11))"
      ]
    },
    {
      "cell_type": "code",
      "source": [
        "a=[1,'anu',7,5]\n",
        "for item in a:\n",
        "  print(f' item is {item}')"
      ],
      "metadata": {
        "colab": {
          "base_uri": "https://localhost:8080/"
        },
        "id": "4aemD-7mVk_3",
        "outputId": "3b582f28-6851-43be-d48b-c41f12052d80"
      },
      "execution_count": null,
      "outputs": [
        {
          "output_type": "stream",
          "name": "stdout",
          "text": [
            " item is 1\n",
            " item is anu\n",
            " item is 7\n",
            " item is 5\n"
          ]
        }
      ]
    },
    {
      "cell_type": "code",
      "source": [
        "a=0\n",
        "for num in range(1,15):\n",
        "  a=a+num\n",
        "print(f'sum is {a}')\n"
      ],
      "metadata": {
        "colab": {
          "base_uri": "https://localhost:8080/"
        },
        "id": "Yvb8D1KUWI9n",
        "outputId": "b1bf6bb9-1321-47a3-a224-4ae14ad89442"
      },
      "execution_count": null,
      "outputs": [
        {
          "output_type": "stream",
          "name": "stdout",
          "text": [
            "sum is 105\n"
          ]
        }
      ]
    },
    {
      "cell_type": "code",
      "source": [
        "for item in range(1,11):\n",
        "  if item%2==0:\n",
        "    print(f'the even numbers are {item}')\n",
        "print(f'the even numbers are {item}')\n"
      ],
      "metadata": {
        "colab": {
          "base_uri": "https://localhost:8080/"
        },
        "id": "6qHsS0DlYulT",
        "outputId": "69461e20-b8f0-47f9-e1fc-80f0e8d16218"
      },
      "execution_count": null,
      "outputs": [
        {
          "output_type": "stream",
          "name": "stdout",
          "text": [
            "the even numbers are 2\n",
            "the even numbers are 4\n",
            "the even numbers are 6\n",
            "the even numbers are 8\n",
            "the even numbers are 10\n",
            "the even numbers are 10\n"
          ]
        }
      ]
    },
    {
      "cell_type": "code",
      "source": [
        "\n",
        "for num in range(1,11):\n",
        "  a=5*num\n",
        "  print(f'the multiplication of 5 is 5 X {num} = {a}')"
      ],
      "metadata": {
        "colab": {
          "base_uri": "https://localhost:8080/"
        },
        "id": "vreeVV87bgEm",
        "outputId": "803e5ae9-8520-4700-89ca-8b9c39193add"
      },
      "execution_count": null,
      "outputs": [
        {
          "output_type": "stream",
          "name": "stdout",
          "text": [
            "the multiplication of 5 is 5 X 1 = 5\n",
            "the multiplication of 5 is 5 X 2 = 10\n",
            "the multiplication of 5 is 5 X 3 = 15\n",
            "the multiplication of 5 is 5 X 4 = 20\n",
            "the multiplication of 5 is 5 X 5 = 25\n",
            "the multiplication of 5 is 5 X 6 = 30\n",
            "the multiplication of 5 is 5 X 7 = 35\n",
            "the multiplication of 5 is 5 X 8 = 40\n",
            "the multiplication of 5 is 5 X 9 = 45\n",
            "the multiplication of 5 is 5 X 10 = 50\n"
          ]
        }
      ]
    },
    {
      "cell_type": "code",
      "source": [
        "for num in range (1,11):\n",
        "  for i in range(1,11):\n",
        "    a=num*i\n",
        "    print(f'the multiplication table of {num} X {i}={a}')"
      ],
      "metadata": {
        "colab": {
          "base_uri": "https://localhost:8080/"
        },
        "id": "dGnq3BTjdthM",
        "outputId": "504c3ac1-3b0f-4296-d5fb-830fcf80e2cc"
      },
      "execution_count": null,
      "outputs": [
        {
          "output_type": "stream",
          "name": "stdout",
          "text": [
            "the multiplication table of 1 X 1=1\n",
            "the multiplication table of 1 X 2=2\n",
            "the multiplication table of 1 X 3=3\n",
            "the multiplication table of 1 X 4=4\n",
            "the multiplication table of 1 X 5=5\n",
            "the multiplication table of 1 X 6=6\n",
            "the multiplication table of 1 X 7=7\n",
            "the multiplication table of 1 X 8=8\n",
            "the multiplication table of 1 X 9=9\n",
            "the multiplication table of 1 X 10=10\n",
            "the multiplication table of 2 X 1=2\n",
            "the multiplication table of 2 X 2=4\n",
            "the multiplication table of 2 X 3=6\n",
            "the multiplication table of 2 X 4=8\n",
            "the multiplication table of 2 X 5=10\n",
            "the multiplication table of 2 X 6=12\n",
            "the multiplication table of 2 X 7=14\n",
            "the multiplication table of 2 X 8=16\n",
            "the multiplication table of 2 X 9=18\n",
            "the multiplication table of 2 X 10=20\n",
            "the multiplication table of 3 X 1=3\n",
            "the multiplication table of 3 X 2=6\n",
            "the multiplication table of 3 X 3=9\n",
            "the multiplication table of 3 X 4=12\n",
            "the multiplication table of 3 X 5=15\n",
            "the multiplication table of 3 X 6=18\n",
            "the multiplication table of 3 X 7=21\n",
            "the multiplication table of 3 X 8=24\n",
            "the multiplication table of 3 X 9=27\n",
            "the multiplication table of 3 X 10=30\n",
            "the multiplication table of 4 X 1=4\n",
            "the multiplication table of 4 X 2=8\n",
            "the multiplication table of 4 X 3=12\n",
            "the multiplication table of 4 X 4=16\n",
            "the multiplication table of 4 X 5=20\n",
            "the multiplication table of 4 X 6=24\n",
            "the multiplication table of 4 X 7=28\n",
            "the multiplication table of 4 X 8=32\n",
            "the multiplication table of 4 X 9=36\n",
            "the multiplication table of 4 X 10=40\n",
            "the multiplication table of 5 X 1=5\n",
            "the multiplication table of 5 X 2=10\n",
            "the multiplication table of 5 X 3=15\n",
            "the multiplication table of 5 X 4=20\n",
            "the multiplication table of 5 X 5=25\n",
            "the multiplication table of 5 X 6=30\n",
            "the multiplication table of 5 X 7=35\n",
            "the multiplication table of 5 X 8=40\n",
            "the multiplication table of 5 X 9=45\n",
            "the multiplication table of 5 X 10=50\n",
            "the multiplication table of 6 X 1=6\n",
            "the multiplication table of 6 X 2=12\n",
            "the multiplication table of 6 X 3=18\n",
            "the multiplication table of 6 X 4=24\n",
            "the multiplication table of 6 X 5=30\n",
            "the multiplication table of 6 X 6=36\n",
            "the multiplication table of 6 X 7=42\n",
            "the multiplication table of 6 X 8=48\n",
            "the multiplication table of 6 X 9=54\n",
            "the multiplication table of 6 X 10=60\n",
            "the multiplication table of 7 X 1=7\n",
            "the multiplication table of 7 X 2=14\n",
            "the multiplication table of 7 X 3=21\n",
            "the multiplication table of 7 X 4=28\n",
            "the multiplication table of 7 X 5=35\n",
            "the multiplication table of 7 X 6=42\n",
            "the multiplication table of 7 X 7=49\n",
            "the multiplication table of 7 X 8=56\n",
            "the multiplication table of 7 X 9=63\n",
            "the multiplication table of 7 X 10=70\n",
            "the multiplication table of 8 X 1=8\n",
            "the multiplication table of 8 X 2=16\n",
            "the multiplication table of 8 X 3=24\n",
            "the multiplication table of 8 X 4=32\n",
            "the multiplication table of 8 X 5=40\n",
            "the multiplication table of 8 X 6=48\n",
            "the multiplication table of 8 X 7=56\n",
            "the multiplication table of 8 X 8=64\n",
            "the multiplication table of 8 X 9=72\n",
            "the multiplication table of 8 X 10=80\n",
            "the multiplication table of 9 X 1=9\n",
            "the multiplication table of 9 X 2=18\n",
            "the multiplication table of 9 X 3=27\n",
            "the multiplication table of 9 X 4=36\n",
            "the multiplication table of 9 X 5=45\n",
            "the multiplication table of 9 X 6=54\n",
            "the multiplication table of 9 X 7=63\n",
            "the multiplication table of 9 X 8=72\n",
            "the multiplication table of 9 X 9=81\n",
            "the multiplication table of 9 X 10=90\n",
            "the multiplication table of 10 X 1=10\n",
            "the multiplication table of 10 X 2=20\n",
            "the multiplication table of 10 X 3=30\n",
            "the multiplication table of 10 X 4=40\n",
            "the multiplication table of 10 X 5=50\n",
            "the multiplication table of 10 X 6=60\n",
            "the multiplication table of 10 X 7=70\n",
            "the multiplication table of 10 X 8=80\n",
            "the multiplication table of 10 X 9=90\n",
            "the multiplication table of 10 X 10=100\n"
          ]
        }
      ]
    },
    {
      "cell_type": "code",
      "source": [
        "s='devika'\n",
        "for item in s:\n",
        "  print(f'the item is {item}')"
      ],
      "metadata": {
        "colab": {
          "base_uri": "https://localhost:8080/"
        },
        "id": "39hzsBZvaXuH",
        "outputId": "9ba4c94d-0666-4727-88ba-e9c053d96b11"
      },
      "execution_count": null,
      "outputs": [
        {
          "output_type": "stream",
          "name": "stdout",
          "text": [
            "the item is d\n",
            "the item is e\n",
            "the item is v\n",
            "the item is i\n",
            "the item is k\n",
            "the item is a\n"
          ]
        }
      ]
    },
    {
      "cell_type": "code",
      "source": [
        "dictt={1:2,2:3,3:4}\n",
        "type(dict)\n",
        "for item in dictt.items():\n",
        "  print(f'{item}')"
      ],
      "metadata": {
        "colab": {
          "base_uri": "https://localhost:8080/"
        },
        "id": "5ZJxDU4RfsA-",
        "outputId": "22b24564-3493-401c-e394-41cd8f3b8351"
      },
      "execution_count": null,
      "outputs": [
        {
          "output_type": "stream",
          "name": "stdout",
          "text": [
            "(1, 2)\n",
            "(2, 3)\n",
            "(3, 4)\n"
          ]
        }
      ]
    },
    {
      "cell_type": "code",
      "source": [
        "s=['anu','appu','vava']\n",
        "for item in s:\n",
        "  print(f'the word is {item}')"
      ],
      "metadata": {
        "colab": {
          "base_uri": "https://localhost:8080/"
        },
        "id": "bwh5zG-hgrhJ",
        "outputId": "745dd97f-4a81-48cb-de78-e1960faadfb4"
      },
      "execution_count": null,
      "outputs": [
        {
          "output_type": "stream",
          "name": "stdout",
          "text": [
            "the word is anu\n",
            "the word is appu\n",
            "the word is vava\n"
          ]
        }
      ]
    },
    {
      "cell_type": "code",
      "source": [
        "for num in range(1,50):\n",
        "  if num%3==0:\n",
        "    print(f'{num}')"
      ],
      "metadata": {
        "colab": {
          "base_uri": "https://localhost:8080/"
        },
        "id": "ER8lS4fyiIkU",
        "outputId": "3bffa057-cd73-4064-cd22-fc1a11a8b67a"
      },
      "execution_count": null,
      "outputs": [
        {
          "output_type": "stream",
          "name": "stdout",
          "text": [
            "3\n",
            "6\n",
            "9\n",
            "12\n",
            "15\n",
            "18\n",
            "21\n",
            "24\n",
            "27\n",
            "30\n",
            "33\n",
            "36\n",
            "39\n",
            "42\n",
            "45\n",
            "48\n"
          ]
        }
      ]
    },
    {
      "cell_type": "code",
      "source": [
        "sum=0\n",
        "for num in range(1,11):\n",
        "  sum=sum+num\n",
        "  a=len(range(1,11))\n",
        "print(f'the sum is {sum} the avg is ', sum/a)\n"
      ],
      "metadata": {
        "colab": {
          "base_uri": "https://localhost:8080/"
        },
        "id": "yTsUq1DRi7CQ",
        "outputId": "2b9df7e4-1548-48d1-ab57-1508a069d23c"
      },
      "execution_count": 2,
      "outputs": [
        {
          "output_type": "stream",
          "name": "stdout",
          "text": [
            "the sum is 55 the avg is  5.5\n"
          ]
        }
      ]
    }
  ]
}